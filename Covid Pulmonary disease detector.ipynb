{
 "cells": [
  {
   "cell_type": "code",
   "execution_count": null,
   "metadata": {},
   "outputs": [],
   "source": [
    "import numpy as np\n",
    "import pandas as pd\n",
    "from pathlib import Path\n",
    "\n",
    "from keras.preprocessing import image\n",
    "from keras.models import Sequential\n",
    "import joblib\n",
    "from sklearn.metrics import confusion_matrix\n",
    "\n",
    "from keras.layers import Dense, Conv2D, MaxPooling2D, Flatten, Dropout"
   ]
  },
  {
   "cell_type": "code",
   "execution_count": null,
   "metadata": {},
   "outputs": [],
   "source": [
    "# Tracing path of the image files\n",
    "covid_with_pn=Path(\"../input/covid-wwo-pneumonia-chest-xray/Data/train/covid_with_PNEUMONIA\"\")\n",
    "covid_without_pn=Path(\"../input/covid-wwo-pneumonia-chest-xray/Data/train/covid_without_PNEUMONIA\")"
   ]
  },
  {
   "cell_type": "code",
   "execution_count": 354,
   "metadata": {},
   "outputs": [],
   "source": [
    "# Tracing path of the image files\n",
    "covid_with_pn=Path(\"Data/train/covid_with_PNEUMONIA\")\n",
    "covid_without_pn=Path(\"Data/train/covid_without_PNEUMONIA\")"
   ]
  },
  {
   "cell_type": "code",
   "execution_count": 355,
   "metadata": {},
   "outputs": [],
   "source": []
  },
  {
   "cell_type": "code",
   "execution_count": 356,
   "metadata": {},
   "outputs": [],
   "source": [
    "# Labelling training data images with Pneumonia as \"1\" and that of without Pneumonia as \"0\"\n",
    "\n",
    "images, labels=[],[]\n",
    "for i in covid_with_pn.glob(\"*.*\"):\n",
    "    data=image.load_img(i,target_size=(400,400),interpolation=\"bilinear\")\n",
    "    img=image.img_to_array(data)\n",
    "    images.append(img)\n",
    "    labels.append(1)\n",
    "\n",
    "for i in covid_without_pn.glob(\"*.*\"):\n",
    "    data=image.load_img(i,target_size=(400,400),interpolation=\"bilinear\")\n",
    "    img=image.img_to_array(data)\n",
    "    images.append(img)\n",
    "    labels.append(0)"
   ]
  },
  {
   "cell_type": "code",
   "execution_count": 357,
   "metadata": {},
   "outputs": [],
   "source": [
    "test_covid_with_pn=Path(\"../input/covid-wwo-pneumonia-chest-xray/Data/test/covid_with_PNEUMONIA\")\n",
    "test_covid_without_pn=Path(\"../input/covid-wwo-pneumonia-chest-xray/Data/test/covid_without_PNEUMONIA\")"
   ]
  },
  {
   "cell_type": "code",
   "execution_count": 358,
   "metadata": {},
   "outputs": [],
   "source": [
    "# Labelling testing data images with Pneumonia as \"1\" and that of without Pneumonia as \"0\"\n",
    "test_images, test_labels=[],[]\n",
    "\n",
    "for i in test_covid_with_pn.glob(\"*.*\"):\n",
    "    data=image.load_img(i,target_size=(400,400),interpolation=\"bilinear\")\n",
    "    img=image.img_to_array(data)\n",
    "    test_images.append(img)\n",
    "    test_labels.append(1)\n",
    "    \n",
    "for i in test_covid_without_pn.glob(\"*.*\"):\n",
    "    data=image.load_img(i,target_size=(400,400),interpolation=\"bilinear\")\n",
    "    img=image.img_to_array(data)\n",
    "    test_images.append(img)\n",
    "    test_labels.append(0)"
   ]
  },
  {
   "cell_type": "code",
   "execution_count": 359,
   "metadata": {},
   "outputs": [],
   "source": [
    "x_train=np.array(images)\n",
    "y_train=np.array(labels)\n",
    "x_test=np.array(test_images)\n",
    "y_test=np.array(test_labels)"
   ]
  },
  {
   "cell_type": "markdown",
   "metadata": {},
   "source": [
    "# CNN Model\n"
   ]
  },
  {
   "cell_type": "markdown",
   "metadata": {},
   "source": [
    " Building the Convolution Neural Network architecture"
   ]
  },
  {
   "cell_type": "code",
   "execution_count": 362,
   "metadata": {},
   "outputs": [],
   "source": [
    "model=Sequential()\n",
    "model.add(Conv2D(32,(3,3), activation='relu', kernel_initializer='he_uniform', padding='same', input_shape=(400,400,3)))\n",
    "model.add(MaxPooling2D((2,2)))\n",
    "model.add(Conv2D(64,(3,3), activation='relu', kernel_initializer='he_uniform', padding='same'))\n",
    "model.add(MaxPooling2D((2,2)))\n",
    "model.add(Conv2D(128,(3,3), activation='relu', kernel_initializer='he_uniform', padding='same'))\n",
    "model.add(MaxPooling2D((2,2)))\n",
    "model.add(Flatten())\n",
    "# model.add(Dropout(0.4))\n",
    "model.add(Dense(128,activation='relu',kernel_initializer='he_uniform'))\n",
    "model.add(Dense(1,activation=\"sigmoid\"))"
   ]
  },
  {
   "cell_type": "code",
   "execution_count": 363,
   "metadata": {},
   "outputs": [],
   "source": [
    "optimizers=Adamax(learning_rate=0.1)\n",
    "model.compile(optimizer=optimizers, loss=\"binary_crossentropy\", metrics=['accuracy'] , )"
   ]
  },
  {
   "cell_type": "code",
   "execution_count": 365,
   "metadata": {
    "collapsed": true
   },
   "outputs": [
    {
     "name": "stdout",
     "output_type": "stream",
     "text": [
      "Epoch 1/20\n",
      "45/45 [==============================] - 66s 1s/step - loss: 94.6127 - accuracy: 0.9289\n",
      "Epoch 2/20\n",
      "45/45 [==============================] - 64s 1s/step - loss: 43.5779 - accuracy: 0.9600\n",
      "Epoch 3/20\n",
      "45/45 [==============================] - 64s 1s/step - loss: 23.6402 - accuracy: 0.9733\n",
      "Epoch 4/20\n",
      "45/45 [==============================] - 64s 1s/step - loss: 11.2351 - accuracy: 0.9756\n",
      "Epoch 5/20\n",
      "45/45 [==============================] - 65s 1s/step - loss: 18.6382 - accuracy: 0.9689\n",
      "Epoch 6/20\n",
      "45/45 [==============================] - 65s 1s/step - loss: 5.9052 - accuracy: 0.9800\n",
      "Epoch 7/20\n",
      "45/45 [==============================] - 66s 1s/step - loss: 2.7108 - accuracy: 0.9933\n",
      "Epoch 8/20\n",
      "45/45 [==============================] - 64s 1s/step - loss: 2.7207 - accuracy: 0.9933\n",
      "Epoch 9/20\n",
      "45/45 [==============================] - 64s 1s/step - loss: 5.5868e-31 - accuracy: 1.0000\n",
      "Epoch 10/20\n",
      "45/45 [==============================] - 65s 1s/step - loss: 3.6263e-33 - accuracy: 1.0000\n",
      "Epoch 11/20\n",
      "45/45 [==============================] - 63s 1s/step - loss: 3.3925e-33 - accuracy: 1.0000\n",
      "Epoch 12/20\n",
      "45/45 [==============================] - 64s 1s/step - loss: 3.3825e-33 - accuracy: 1.0000\n",
      "Epoch 13/20\n",
      "45/45 [==============================] - 64s 1s/step - loss: 3.3825e-33 - accuracy: 1.0000\n",
      "Epoch 14/20\n",
      "45/45 [==============================] - 65s 1s/step - loss: 3.3825e-33 - accuracy: 1.0000\n",
      "Epoch 15/20\n",
      "45/45 [==============================] - 64s 1s/step - loss: 3.3825e-33 - accuracy: 1.0000\n",
      "Epoch 16/20\n",
      "45/45 [==============================] - 64s 1s/step - loss: 3.3825e-33 - accuracy: 1.0000\n",
      "Epoch 17/20\n",
      "45/45 [==============================] - 64s 1s/step - loss: 3.3825e-33 - accuracy: 1.0000\n",
      "Epoch 18/20\n",
      "45/45 [==============================] - 64s 1s/step - loss: 3.3825e-33 - accuracy: 1.0000\n",
      "Epoch 19/20\n",
      "45/45 [==============================] - 64s 1s/step - loss: 3.3825e-33 - accuracy: 1.0000\n",
      "Epoch 20/20\n",
      "45/45 [==============================] - 65s 1s/step - loss: 3.3825e-33 - accuracy: 1.0000\n"
     ]
    },
    {
     "data": {
      "text/plain": [
       "<tensorflow.python.keras.callbacks.History at 0x21741264208>"
      ]
     },
     "execution_count": 365,
     "metadata": {},
     "output_type": "execute_result"
    }
   ],
   "source": [
    "model.fit(x_train,y_train,batch_size=10,epochs=20)\n",
    "pred_lables=model.predict(x_test).astype('int32')"
   ]
  },
  {
   "cell_type": "code",
   "execution_count": 5,
   "metadata": {
    "scrolled": true
   },
   "outputs": [
    {
     "ename": "NameError",
     "evalue": "name 'confusion_matrix' is not defined",
     "output_type": "error",
     "traceback": [
      "\u001b[1;31m---------------------------------------------------------------------------\u001b[0m",
      "\u001b[1;31mNameError\u001b[0m                                 Traceback (most recent call last)",
      "\u001b[1;32m<ipython-input-5-b9f75892a0c4>\u001b[0m in \u001b[0;36m<module>\u001b[1;34m\u001b[0m\n\u001b[1;32m----> 1\u001b[1;33m \u001b[0mconfusion_matrix\u001b[0m\u001b[1;33m(\u001b[0m\u001b[0my_test\u001b[0m\u001b[1;33m,\u001b[0m \u001b[0mpred_lables\u001b[0m\u001b[1;33m.\u001b[0m\u001b[0mT\u001b[0m\u001b[1;33m[\u001b[0m\u001b[1;36m0\u001b[0m\u001b[1;33m]\u001b[0m\u001b[1;33m)\u001b[0m\u001b[1;33m\u001b[0m\u001b[1;33m\u001b[0m\u001b[0m\n\u001b[0m",
      "\u001b[1;31mNameError\u001b[0m: name 'confusion_matrix' is not defined"
     ]
    }
   ],
   "source": [
    "confusion_matrix(y_test, pred_lables.T[0])"
   ]
  },
  {
   "cell_type": "code",
   "execution_count": null,
   "metadata": {},
   "outputs": [],
   "source": []
  }
 ],
 "metadata": {
  "kernelspec": {
   "display_name": "Python 3",
   "language": "python",
   "name": "python3"
  },
  "language_info": {
   "codemirror_mode": {
    "name": "ipython",
    "version": 3
   },
   "file_extension": ".py",
   "mimetype": "text/x-python",
   "name": "python",
   "nbconvert_exporter": "python",
   "pygments_lexer": "ipython3",
   "version": "3.7.6"
  }
 },
 "nbformat": 4,
 "nbformat_minor": 4
}
